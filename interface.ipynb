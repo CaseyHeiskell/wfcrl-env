{
 "cells": [
  {
   "cell_type": "markdown",
   "metadata": {},
   "source": [
    "# FastFarmInterace: an MPI-based Python-FastFarm interface to develop wind farm control policies "
   ]
  },
  {
   "cell_type": "code",
   "execution_count": 1,
   "metadata": {},
   "outputs": [],
   "source": [
    "import numpy as np\n",
    "\n",
    "from wfcrl.environments import data_cases as cases\n",
    "from wfcrl.interface import FastFarmInterface"
   ]
  },
  {
   "cell_type": "markdown",
   "metadata": {},
   "source": [
    "We start by chosing the case to simulate. The library comes with a list of pre-existing farm layouts that can be found in `environments/data_cases.py`. Let us use the `Farm6Fastfarm`, which has 6 turbines organized in 2 rows."
   ]
  },
  {
   "cell_type": "code",
   "execution_count": 2,
   "metadata": {},
   "outputs": [],
   "source": [
    "config = cases.Farm6Fastfarm()"
   ]
  },
  {
   "cell_type": "code",
   "execution_count": 3,
   "metadata": {
    "scrolled": true
   },
   "outputs": [
    {
     "data": {
      "text/plain": [
       "6 turbines \n",
       "measurement_window: 200\n",
       "\txcoords: [0.0, 504.0, 1008.0, 0.0, 504.0, 1008.0]\n",
       "\tycoords: [-252, -252, -252, 252, 252, 252]\n",
       "\tdt: 3\n",
       "log_file: log.txt"
      ]
     },
     "execution_count": 3,
     "metadata": {},
     "output_type": "execute_result"
    }
   ],
   "source": [
    "config"
   ]
  },
  {
   "cell_type": "markdown",
   "metadata": {},
   "source": [
    "We will control the yaw of all turbines, allowing to vary between -20 and 20°, with a maximum change between two iterations of 15°. We control the pitch between 0° and 45°, with a maximum step of 1°."
   ]
  },
  {
   "cell_type": "code",
   "execution_count": 4,
   "metadata": {},
   "outputs": [
    {
     "name": "stdout",
     "output_type": "stream",
     "text": [
      "{'measurement_window': 200, 'simul_kwargs': {'xcoords': [0.0, 504.0, 1008.0, 0.0, 504.0, 1008.0], 'ycoords': [-252, -252, -252, 252, 252, 252], 'dt': 3}, 'log_file': 'log.txt'}\n"
     ]
    }
   ],
   "source": [
    "print(config.interface_kwargs)"
   ]
  },
  {
   "cell_type": "code",
   "execution_count": 7,
   "metadata": {},
   "outputs": [
    {
     "name": "stdout",
     "output_type": "stream",
     "text": [
      "Deltas: [2.10730392e-05 9.06140684e-04 1.81228137e-03 2.10730392e-05\n",
      " 9.06140684e-04 1.81228137e-03]\n",
      "Exception has been raise. I put this print statement instead. Check with EB.\n",
      "Exception: Some X0_High are not on an integer multiple of the high-res grid\n",
      "Created FAST.Farm input file: simulators/fastfarm/inputs/FarmInputs/Case.fstf\n"
     ]
    }
   ],
   "source": [
    "num_iter = 10\n",
    "ff_interface = FastFarmInterface(\n",
    "    num_turbines=config.n_turbines,\n",
    "    max_iter=num_iter,\n",
    "    **config.interface_kwargs\n",
    ")"
   ]
  },
  {
   "cell_type": "markdown",
   "metadata": {},
   "source": [
    "To change the yaw, pitch or torque command, use the method `update_command(yaw, pitch, torque)`. Let's control the yaw and pitch:"
   ]
  },
  {
   "cell_type": "code",
   "execution_count": 6,
   "metadata": {},
   "outputs": [
    {
     "name": "stdout",
     "output_type": "stream",
     "text": [
      "Spawning process simulators/fastfarm/bin/FAST.Farm_x64_OMP_2023.exe simulators/fastfarm/inputs/FarmInputs/Case.fstf\n",
      "Interface: will receive 12 measures at every iteration\n",
      "PYTHON: Iter  0\n",
      "Iter 0 - Sent command YAW [0. 0. 0. 0. 0. 0.] -  PITCH [0. 0. 0. 0. 0. 0.] TORQUE None\n",
      " Received Power: [1681373.75  1745663.    1569152.875 1544478.125 1597603.25  1651373.75 ] Wind : [  8.74695969 276.0602417 ]\n",
      "\n",
      "PYTHON: Iter  1\n",
      "Iter 1 - Sent command YAW [0. 0. 0. 0. 0. 0.] -  PITCH [0. 0. 0. 0. 0. 0.] TORQUE None\n",
      " Received Power: [1725271.1875 1822723.6875 1588757.375  1551444.5    1625316.875\n",
      " 1681648.0625] Wind : [  8.74695969 276.0602417 ]\n",
      "\n",
      "PYTHON: Iter  2\n",
      "Iter 2 - Sent command YAW [0. 0. 0. 0. 0. 0.] -  PITCH [0. 0. 0. 0. 0. 0.] TORQUE None\n",
      " Received Power: [1759347.125      1881772.91666667 1610341.75       1540417.\n",
      " 1641216.         1699228.875     ] Wind : [  8.70515474 273.75221761]\n",
      "\n",
      "PYTHON: Iter  3\n",
      "Iter 3 - Sent command YAW [0. 0. 0. 0. 0. 0.] -  PITCH [0. 0. 0. 0. 0. 0.] TORQUE None\n",
      " Received Power: [1776550.3125  1921039.1875  1629821.78125 1517405.21875 1649260.78125\n",
      " 1714718.1875 ] Wind : [  8.76964521 272.87103271]\n",
      "\n",
      "PYTHON: Iter  4\n"
     ]
    },
    {
     "ename": "KeyboardInterrupt",
     "evalue": "",
     "output_type": "error",
     "traceback": [
      "\u001b[1;31m---------------------------------------------------------------------------\u001b[0m",
      "\u001b[1;31mKeyboardInterrupt\u001b[0m                         Traceback (most recent call last)",
      "Cell \u001b[1;32mIn[6], line 9\u001b[0m\n\u001b[0;32m      7\u001b[0m     yaw_command[\u001b[38;5;241m0\u001b[39m] \u001b[38;5;241m=\u001b[39m \u001b[38;5;241m30\u001b[39m\n\u001b[0;32m      8\u001b[0m     pitch_command[\u001b[38;5;241m0\u001b[39m] \u001b[38;5;241m=\u001b[39m \u001b[38;5;241m1\u001b[39m\n\u001b[1;32m----> 9\u001b[0m \u001b[43mff_interface\u001b[49m\u001b[38;5;241;43m.\u001b[39;49m\u001b[43mupdate_command\u001b[49m\u001b[43m(\u001b[49m\u001b[43myaw\u001b[49m\u001b[38;5;241;43m=\u001b[39;49m\u001b[43myaw_command\u001b[49m\u001b[43m,\u001b[49m\u001b[43m \u001b[49m\u001b[43mpitch\u001b[49m\u001b[38;5;241;43m=\u001b[39;49m\u001b[43mpitch_command\u001b[49m\u001b[43m)\u001b[49m\n\u001b[0;32m     10\u001b[0m \u001b[38;5;28mprint\u001b[39m(\u001b[38;5;124mf\u001b[39m\u001b[38;5;124m\"\u001b[39m\u001b[38;5;124mIter \u001b[39m\u001b[38;5;132;01m{\u001b[39;00mi\u001b[38;5;132;01m}\u001b[39;00m\u001b[38;5;124m - Sent command YAW \u001b[39m\u001b[38;5;132;01m{\u001b[39;00mff_interface\u001b[38;5;241m.\u001b[39mget_yaw_command()\u001b[38;5;132;01m}\u001b[39;00m\u001b[38;5;124m - \u001b[39m\u001b[38;5;124m\"\u001b[39m\n\u001b[0;32m     11\u001b[0m       \u001b[38;5;124mf\u001b[39m\u001b[38;5;124m\"\u001b[39m\u001b[38;5;124m PITCH \u001b[39m\u001b[38;5;132;01m{\u001b[39;00mff_interface\u001b[38;5;241m.\u001b[39mget_pitch_command()\u001b[38;5;132;01m}\u001b[39;00m\u001b[38;5;124m\"\u001b[39m\n\u001b[0;32m     12\u001b[0m       \u001b[38;5;124mf\u001b[39m\u001b[38;5;124m\"\u001b[39m\u001b[38;5;124m TORQUE \u001b[39m\u001b[38;5;132;01m{\u001b[39;00mff_interface\u001b[38;5;241m.\u001b[39mget_torque_command()\u001b[38;5;132;01m}\u001b[39;00m\u001b[38;5;130;01m\\n\u001b[39;00m\u001b[38;5;124m\"\u001b[39m\n\u001b[0;32m     13\u001b[0m       \u001b[38;5;124mf\u001b[39m\u001b[38;5;124m\"\u001b[39m\u001b[38;5;124m Received Power: \u001b[39m\u001b[38;5;132;01m{\u001b[39;00mff_interface\u001b[38;5;241m.\u001b[39mget_turbine_powers()\u001b[38;5;132;01m}\u001b[39;00m\u001b[38;5;124m\"\u001b[39m\n\u001b[0;32m     14\u001b[0m       \u001b[38;5;124mf\u001b[39m\u001b[38;5;124m\"\u001b[39m\u001b[38;5;124m Wind : \u001b[39m\u001b[38;5;132;01m{\u001b[39;00mff_interface\u001b[38;5;241m.\u001b[39mget_turbine_wind()\u001b[38;5;132;01m}\u001b[39;00m\u001b[38;5;130;01m\\n\u001b[39;00m\u001b[38;5;124m\"\u001b[39m\n\u001b[0;32m     15\u001b[0m )\n",
      "File \u001b[1;32m~\\Documents\\Projects\\WFCRL\\wfcrl\\interface.py:174\u001b[0m, in \u001b[0;36mMPI_Interface.update_command\u001b[1;34m(self, yaw, pitch, torque)\u001b[0m\n\u001b[0;32m    164\u001b[0m \u001b[38;5;28mself\u001b[39m\u001b[38;5;241m.\u001b[39m_comm\u001b[38;5;241m.\u001b[39mSend(\n\u001b[0;32m    165\u001b[0m     buf\u001b[38;5;241m=\u001b[39m\u001b[38;5;28mself\u001b[39m\u001b[38;5;241m.\u001b[39m_current_pitch_command,\n\u001b[0;32m    166\u001b[0m     dest\u001b[38;5;241m=\u001b[39m\u001b[38;5;28mself\u001b[39m\u001b[38;5;241m.\u001b[39m_target_process_rank,\n\u001b[0;32m    167\u001b[0m     tag\u001b[38;5;241m=\u001b[39m\u001b[38;5;28mself\u001b[39m\u001b[38;5;241m.\u001b[39mPITCH_TAG,\n\u001b[0;32m    168\u001b[0m )\n\u001b[0;32m    169\u001b[0m \u001b[38;5;28mself\u001b[39m\u001b[38;5;241m.\u001b[39m_comm\u001b[38;5;241m.\u001b[39mSend(\n\u001b[0;32m    170\u001b[0m     buf\u001b[38;5;241m=\u001b[39m\u001b[38;5;28mself\u001b[39m\u001b[38;5;241m.\u001b[39m_current_torque_command,\n\u001b[0;32m    171\u001b[0m     dest\u001b[38;5;241m=\u001b[39m\u001b[38;5;28mself\u001b[39m\u001b[38;5;241m.\u001b[39m_target_process_rank,\n\u001b[0;32m    172\u001b[0m     tag\u001b[38;5;241m=\u001b[39m\u001b[38;5;28mself\u001b[39m\u001b[38;5;241m.\u001b[39mTORQUE_TAG,\n\u001b[0;32m    173\u001b[0m )\n\u001b[1;32m--> 174\u001b[0m power, wind \u001b[38;5;241m=\u001b[39m \u001b[38;5;28;43mself\u001b[39;49m\u001b[38;5;241;43m.\u001b[39;49m\u001b[43m_wait_for_sim_output\u001b[49m\u001b[43m(\u001b[49m\u001b[43m)\u001b[49m\n\u001b[0;32m    175\u001b[0m \u001b[38;5;28mself\u001b[39m\u001b[38;5;241m.\u001b[39m_power_buffers\u001b[38;5;241m.\u001b[39madd(power)\n\u001b[0;32m    176\u001b[0m \u001b[38;5;28mself\u001b[39m\u001b[38;5;241m.\u001b[39m_wind_buffers\u001b[38;5;241m.\u001b[39madd(wind)\n",
      "File \u001b[1;32m~\\Documents\\Projects\\WFCRL\\wfcrl\\interface.py:264\u001b[0m, in \u001b[0;36mMPI_Interface._wait_for_sim_output\u001b[1;34m(self)\u001b[0m\n\u001b[0;32m    262\u001b[0m size_buffer \u001b[38;5;241m=\u001b[39m \u001b[38;5;28mself\u001b[39m\u001b[38;5;241m.\u001b[39mnum_turbines \u001b[38;5;241m*\u001b[39m \u001b[38;5;28mself\u001b[39m\u001b[38;5;241m.\u001b[39m_num_measures\n\u001b[0;32m    263\u001b[0m measures \u001b[38;5;241m=\u001b[39m np\u001b[38;5;241m.\u001b[39mzeros(size_buffer, dtype\u001b[38;5;241m=\u001b[39mnp\u001b[38;5;241m.\u001b[39mdouble)\n\u001b[1;32m--> 264\u001b[0m \u001b[38;5;28;43mself\u001b[39;49m\u001b[38;5;241;43m.\u001b[39;49m\u001b[43m_comm\u001b[49m\u001b[38;5;241;43m.\u001b[39;49m\u001b[43mRecv\u001b[49m\u001b[43m(\u001b[49m\n\u001b[0;32m    265\u001b[0m \u001b[43m    \u001b[49m\u001b[43mmeasures\u001b[49m\u001b[43m,\u001b[49m\u001b[43m \u001b[49m\u001b[43msource\u001b[49m\u001b[38;5;241;43m=\u001b[39;49m\u001b[38;5;28;43mself\u001b[39;49m\u001b[38;5;241;43m.\u001b[39;49m\u001b[43m_target_process_rank\u001b[49m\u001b[43m,\u001b[49m\u001b[43m \u001b[49m\u001b[43mtag\u001b[49m\u001b[38;5;241;43m=\u001b[39;49m\u001b[38;5;28;43mself\u001b[39;49m\u001b[38;5;241;43m.\u001b[39;49m\u001b[43mMEASURES_TAG\u001b[49m\n\u001b[0;32m    266\u001b[0m \u001b[43m\u001b[49m\u001b[43m)\u001b[49m\n\u001b[0;32m    267\u001b[0m \u001b[38;5;28mself\u001b[39m\u001b[38;5;241m.\u001b[39m_comm\u001b[38;5;241m.\u001b[39mBarrier()\n\u001b[0;32m    268\u001b[0m measures \u001b[38;5;241m=\u001b[39m measures\u001b[38;5;241m.\u001b[39mreshape((\u001b[38;5;28mself\u001b[39m\u001b[38;5;241m.\u001b[39mnum_turbines, \u001b[38;5;28mself\u001b[39m\u001b[38;5;241m.\u001b[39m_num_measures))\n",
      "\u001b[1;31mKeyboardInterrupt\u001b[0m: "
     ]
    }
   ],
   "source": [
    "ff_interface.reset()\n",
    "for i in range(num_iter):\n",
    "    print(\"PYTHON: Iter \", i)\n",
    "    yaw_command = np.zeros(ff_interface.num_turbines, dtype=np.double)\n",
    "    pitch_command = np.zeros(ff_interface.num_turbines, dtype=np.double)\n",
    "    if i > 20:\n",
    "        yaw_command[0] = 30\n",
    "        pitch_command[0] = 1\n",
    "    ff_interface.update_command(yaw=yaw_command, pitch=pitch_command)\n",
    "    print(f\"Iter {i} - Sent command YAW {ff_interface.get_yaw_command()} - \"\n",
    "          f\" PITCH {ff_interface.get_pitch_command()}\"\n",
    "          f\" TORQUE {ff_interface.get_torque_command()}\\n\"\n",
    "          f\" Received Power: {ff_interface.get_turbine_powers()}\"\n",
    "          f\" Wind : {ff_interface.get_turbine_wind()}\\n\"\n",
    "    )"
   ]
  },
  {
   "cell_type": "code",
   "execution_count": null,
   "metadata": {},
   "outputs": [],
   "source": []
  }
 ],
 "metadata": {
  "kernelspec": {
   "display_name": "Python 3 (ipykernel)",
   "language": "python",
   "name": "python3"
  },
  "language_info": {
   "codemirror_mode": {
    "name": "ipython",
    "version": 3
   },
   "file_extension": ".py",
   "mimetype": "text/x-python",
   "name": "python",
   "nbconvert_exporter": "python",
   "pygments_lexer": "ipython3",
   "version": "3.12.1"
  }
 },
 "nbformat": 4,
 "nbformat_minor": 4
}
